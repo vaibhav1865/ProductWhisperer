{
 "cells": [
  {
   "cell_type": "code",
   "execution_count": 1,
   "metadata": {},
   "outputs": [],
   "source": [
    "import numpy as np\n",
    "import pandas as pd \n",
    "from sklearn.metrics.pairwise import sigmoid_kernel\n",
    "from sklearn.feature_extraction.text import TfidfVectorizer\n",
    "from sklearn.metrics.pairwise import cosine_similarity\n",
    "from gensim.models import Word2Vec\n",
    "from gensim.models import KeyedVectors\n",
    "import gensim\n",
    "import numpy as np\n",
    "import pandas as pd\n",
    "from tqdm import tqdm\n",
    "from collections import defaultdict\n",
    "import re\n",
    "import nltk\n"
   ]
  },
  {
   "cell_type": "code",
   "execution_count": 2,
   "metadata": {},
   "outputs": [
    {
     "name": "stdout",
     "output_type": "stream",
     "text": [
      "(20000, 15) 12676 20000\n",
      "['Alisha', 'Solid', \"Women's\", 'Cycling', 'Shorts']\n"
     ]
    }
   ],
   "source": [
    "products = pd.read_csv(r'.\\Recommeder\\Data\\flipkart_com-ecommerce_sample.csv')\n",
    "print(products.shape ,len(products['product_name'].unique()),len(products['uniq_id'].unique()))\n",
    "# products.head()\n",
    "transactions_path = r\".\\Recommeder\\Data\\transaction.csv\"\n",
    "\n",
    "transaction_table = pd.read_csv(transactions_path)\n",
    "\n",
    "products['description'] = products['description'].fillna('')\n",
    "corpus = products['product_name']\n",
    "corpus = corpus.tolist()\n",
    "# print(corpus[0])\n",
    "corpus = [x.split() for x in corpus]\n",
    "print(corpus[0])"
   ]
  },
  {
   "cell_type": "code",
   "execution_count": 3,
   "metadata": {},
   "outputs": [],
   "source": [
    "\n",
    "\n",
    "corpus = [re.sub(r'\\W', ' ', str(x)) for x in corpus]\n",
    "corpus = [re.sub(r'\\s+[a-zA-Z]\\s+', ' ', x) for x in corpus]\n",
    "corpus = [re.sub(r'\\^[a-zA-Z]\\s+', ' ', x) for x in corpus]\n",
    "corpus = [re.sub(r'\\s+', ' ', x, flags=re.I) for x in corpus]\n",
    "corpus = [x.lower() for x in corpus]\n",
    "\n"
   ]
  },
  {
   "cell_type": "code",
   "execution_count": 4,
   "metadata": {},
   "outputs": [],
   "source": [
    "pidToidx = pd.Series(products.index,index=products['uniq_id']).drop_duplicates()\n",
    "pidToProductSeries = pd.Series(products['product_name'].values,index=products['uniq_id']).to_dict()\n"
   ]
  },
  {
   "cell_type": "code",
   "execution_count": null,
   "metadata": {},
   "outputs": [],
   "source": [
    "# save pidToidx\n"
   ]
  },
  {
   "cell_type": "code",
   "execution_count": 11,
   "metadata": {},
   "outputs": [],
   "source": [
    "new_transaction_table = transaction_table.groupby('UID')['PID'].apply(list).reset_index(name='sequence')"
   ]
  },
  {
   "cell_type": "code",
   "execution_count": 5,
   "metadata": {},
   "outputs": [
    {
     "data": {
      "text/plain": [
       "(1579008, 8220360)"
      ]
     },
     "execution_count": 5,
     "metadata": {},
     "output_type": "execute_result"
    }
   ],
   "source": [
    "model = Word2Vec(sentences=corpus, vector_size=100, window=5, min_count=1, workers=4, sg=0)\n",
    "model.train(corpus, total_examples=len(corpus), epochs=10)"
   ]
  },
  {
   "cell_type": "code",
   "execution_count": 6,
   "metadata": {},
   "outputs": [],
   "source": [
    "def storeEmbeddings(model , corpus):\n",
    "    embeddings = []\n",
    "    for key , product in enumerate(corpus):\n",
    "        featureVec = np.zeros(100,dtype='float32')\n",
    "        nwords = 0\n",
    "        for word in product:\n",
    "            if word in model.wv:\n",
    "                nwords += 1\n",
    "                featureVec = np.add(featureVec,model.wv[word])\n",
    "        if nwords > 0:\n",
    "            featureVec = np.divide(featureVec,nwords)\n",
    "        embeddings.append({'product':product,'vector':featureVec})\n",
    "    return embeddings\n",
    "\n",
    "embeddings = storeEmbeddings( model , corpus )\n"
   ]
  },
  {
   "cell_type": "code",
   "execution_count": 7,
   "metadata": {},
   "outputs": [],
   "source": [
    "embeddings = pd.DataFrame(embeddings , columns=['product','vector'])"
   ]
  },
  {
   "cell_type": "code",
   "execution_count": 39,
   "metadata": {},
   "outputs": [],
   "source": [
    "# save embeddings in pickle file\n",
    "embeddings.to_pickle(r'embeddings.pkl')\n"
   ]
  },
  {
   "cell_type": "code",
   "execution_count": 8,
   "metadata": {},
   "outputs": [],
   "source": [
    "# wordsinVocab\n",
    "\n",
    "def reccomendProductsw2vec(products_bought , embeddings , topK):\n",
    "    print(products_bought)\n",
    "    product_embeddings = []\n",
    "    for idx in products_bought:\n",
    "        product_embeddings.append(embeddings.iloc[idx]['vector'])\n",
    "    \n",
    "    product_embeddings = np.array(product_embeddings)\n",
    "    avg_embeddings = np.mean(product_embeddings , axis=0)\n",
    "    similarity_scores = []\n",
    "    for idx , row in embeddings.iterrows():\n",
    "        score = cosine_similarity([avg_embeddings],[row['vector']])\n",
    "        similarity_scores.append((idx,score[0][0]))\n",
    "        \n",
    "    \n",
    "    similarity_scores = sorted(similarity_scores, key=lambda x: x[1], reverse=True)\n",
    "    product_names = []\n",
    "    last_score = 0\n",
    "    for i in similarity_scores:\n",
    "        if last_score == 0 or abs(last_score - i[1]) >= 0.01*last_score:\n",
    "            product_names.append(products.iloc[i[0]]['product_name'])\n",
    "            last_score = i[1]\n",
    "            if len(product_names) == topK:\n",
    "                break\n",
    "            \n",
    "        \n",
    "    return product_names\n"
   ]
  },
  {
   "cell_type": "code",
   "execution_count": null,
   "metadata": {},
   "outputs": [],
   "source": []
  },
  {
   "cell_type": "code",
   "execution_count": 12,
   "metadata": {},
   "outputs": [
    {
     "name": "stdout",
     "output_type": "stream",
     "text": [
      "Past purchases:  13\n",
      "Silver Kartz Beach Sky Blue Wayfarer, Rectangular Sunglasses\n",
      "Joy Living Garden Plant Container Set\n",
      "Delberto Boots\n",
      "NEWGEN TECH EO-HS3303 55 Wired Headset\n",
      "Playboy New York Combo Set\n",
      "Shezone Women Wedges\n",
      "Floret Women's Bra\n",
      "Sahara Q Shop Kadhai 1.5 L\n",
      "Jewel Paradise Brass Plated Brass Necklace\n",
      "Wild Stone Deodorant No-22 Combo Set\n",
      "Voylla Yellow Gold Plated Alloy Necklace\n",
      "Golden Peacock Crystal Alloy Necklace\n",
      "Voylla Artificial Beaded Glossy Yellow Gold Plated Alloy Necklace\n"
     ]
    }
   ],
   "source": [
    "userId = \"2e112284-8013-430d-b784-8f1808dd4e76\"\n",
    "\n",
    "pastPurchases = new_transaction_table[new_transaction_table['UID'] == userId]['sequence'].values\n",
    "\n",
    "# print(pastPurchases)\n",
    "pastPurchasesIdx = []\n",
    "for purchase in pastPurchases:\n",
    "    pastPurchasesIdx.append(pidToidx[purchase].to_list())\n",
    "    \n",
    "\n",
    "pastPurchasesIdx = pastPurchasesIdx[0]\n",
    "print(\"Past purchases: \", len(pastPurchasesIdx))\n",
    "# Print name of products bought by user\n",
    "for i in pastPurchasesIdx:\n",
    "    print(products.iloc[i]['product_name'])\n",
    "\n"
   ]
  },
  {
   "cell_type": "code",
   "execution_count": 13,
   "metadata": {},
   "outputs": [
    {
     "name": "stdout",
     "output_type": "stream",
     "text": [
      "Products bought by user:  13\n",
      "['Silver Kartz Beach Sky Blue Wayfarer, Rectangular Sunglasses', 'Joy Living Garden Plant Container Set', 'Delberto Boots', 'NEWGEN TECH EO-HS3303 55 Wired Headset', 'Playboy New York Combo Set', 'Shezone Women Wedges', \"Floret Women's Bra\", 'Sahara Q Shop Kadhai 1.5 L', 'Jewel Paradise Brass Plated Brass Necklace', 'Wild Stone Deodorant No-22 Combo Set', 'Voylla Yellow Gold Plated Alloy Necklace', 'Golden Peacock Crystal Alloy Necklace', 'Voylla Artificial Beaded Glossy Yellow Gold Plated Alloy Necklace']\n",
      "\n",
      "Top Recommended products are: \n",
      "\n",
      "Product Recommended to user:  20\n",
      "['KASCN UNIVERSAL ARMY TYPE ONE SIDED BAG FOR ALL MOTORCYCLES One-side Green Fabric Motorbike Saddlebag', \"Orange Plum Women's Solid Casual Shirt\", \"Besiva Women's Solid Formal Shirt\", \"Lord's Antique Gold Women's Peeptoe Heels Women Heels\", 'Scalabedding Cotton Solid King sized Double Bedsheet', \"Wrangler Solid Men's Round Neck T-Shirt\", 'Juhi Malhotra Ceramic Choker', 'Jums Cotton Bath Towel', 'SHOPRIDER DESGINER MOUSEPAD-971 Mousepad', 'Envy 1000 Intense,Nitro Combo Set', 'Allure Auto CM 1522 Car Mat Renault Scala', 'Treasure Showpiece  -  23 cm', 'Fullcutdiamond FCDR6283R Yellow Gold Diamond 18K Yellow Gold 18 K Ring', 'Snug Hug 121 M Pet Bed', \"Green Moments Women's Leggings\", 'Swag 670038 Analog Watch  - For Boys', 'Allure Auto CM 2072 Car Mat Maruti SX4', 'Printland PMR1032 Ceramic Mug', \"Ignite Women's Leggings\", 'Ratash.Com LA_0129_2 Showpiece  -  8 cm']\n",
      "\n"
     ]
    }
   ],
   "source": [
    "\n",
    "reccomdations = []\n",
    "# Past Purchases\n",
    "pastPurchases = new_transaction_table[new_transaction_table['UID'] == userId]['sequence'].values\n",
    "\n",
    "# Print name of products bought by user\n",
    "pastProductNames = []\n",
    "for i in pastPurchases[0]:\n",
    "    pastProductNames.append(pidToProductSeries[i])\n",
    "\n",
    "print(\"Products bought by user: \", len(pastProductNames))\n",
    "\n",
    "print( pastProductNames )\n",
    "\n",
    "\n",
    "\n",
    "print(\"\\nTop Recommended products are: \\n\")\n",
    "reccomdations = reccomendProductsw2vec(pastPurchasesIdx ,embeddings  , 20)\n",
    "print(\"Product Recommended to user: \", len(reccomdations))\n",
    "print(reccomdations , end = '\\n\\n')\n",
    "\n"
   ]
  },
  {
   "cell_type": "code",
   "execution_count": null,
   "metadata": {},
   "outputs": [],
   "source": []
  }
 ],
 "metadata": {
  "kernelspec": {
   "display_name": "base",
   "language": "python",
   "name": "python3"
  },
  "language_info": {
   "codemirror_mode": {
    "name": "ipython",
    "version": 3
   },
   "file_extension": ".py",
   "mimetype": "text/x-python",
   "name": "python",
   "nbconvert_exporter": "python",
   "pygments_lexer": "ipython3",
   "version": "3.9.13"
  },
  "orig_nbformat": 4
 },
 "nbformat": 4,
 "nbformat_minor": 2
}
